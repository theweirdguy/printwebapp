{
 "cells": [
  {
   "cell_type": "code",
   "execution_count": 10,
   "metadata": {},
   "outputs": [
    {
     "ename": "SyntaxError",
     "evalue": "EOL while scanning string literal (<ipython-input-10-66769c88f9c7>, line 8)",
     "output_type": "error",
     "traceback": [
      "\u001b[0;36m  File \u001b[0;32m\"<ipython-input-10-66769c88f9c7>\"\u001b[0;36m, line \u001b[0;32m8\u001b[0m\n\u001b[0;31m    date=datetime.strptime(row[0], r'%b %d %Y’),\u001b[0m\n\u001b[0m                                                ^\u001b[0m\n\u001b[0;31mSyntaxError\u001b[0m\u001b[0;31m:\u001b[0m EOL while scanning string literal\n"
     ]
    }
   ],
   "source": [
    "import csv\n",
    "from datetime import datetime\n",
    "from receipt.models import Receipt\n",
    "with open('convo.csv') as f:\n",
    "        reader = csv.reader(f)\n",
    "        for row in reader:\n",
    "            _, created = Receipt.objects.get_or_create(\n",
    "                date=row[0],\n",
    "                registration_no=row[1],\n",
    "                student_name=row[2],\n",
    "                phone_number=row[3],\n",
    "                photo_type=row[5],\n",
    "                price=row[6],\n",
    "                )"
   ]
  },
  {
   "cell_type": "code",
   "execution_count": null,
   "metadata": {},
   "outputs": [],
   "source": [
    "    "
   ]
  }
 ],
 "metadata": {
  "kernelspec": {
   "display_name": "Python 3",
   "language": "python",
   "name": "python3"
  },
  "language_info": {
   "codemirror_mode": {
    "name": "ipython",
    "version": 3
   },
   "file_extension": ".py",
   "mimetype": "text/x-python",
   "name": "python",
   "nbconvert_exporter": "python",
   "pygments_lexer": "ipython3",
   "version": "3.6.4"
  }
 },
 "nbformat": 4,
 "nbformat_minor": 2
}
